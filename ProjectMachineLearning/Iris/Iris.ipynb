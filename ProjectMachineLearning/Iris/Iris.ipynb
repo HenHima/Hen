{
 "cells": [
  {
   "cell_type": "markdown",
   "metadata": {
    "colab_type": "text",
    "id": "rEyobVrOnkFw"
   },
   "source": [
    "#Preprocessing"
   ]
  },
  {
   "cell_type": "markdown",
   "metadata": {
    "colab_type": "text",
    "id": "iVREyO6zkz_T"
   },
   "source": [
    "*   Import Library\n",
    "\n",
    "Men-import library yang dibutuhkan dalam proses machine learning"
   ]
  },
  {
   "cell_type": "code",
   "execution_count": 6,
   "metadata": {
    "colab": {},
    "colab_type": "code",
    "id": "sXt3ttRcUzCJ"
   },
   "outputs": [],
   "source": [
    "import pandas as pd\n",
    "import matplotlib.pyplot as plt\n",
    "import numpy as np"
   ]
  },
  {
   "cell_type": "markdown",
   "metadata": {
    "colab_type": "text",
    "id": "m-8p9rj5lOcL"
   },
   "source": [
    "#Load Dataset\n",
    "Membaca dataset"
   ]
  },
  {
   "cell_type": "code",
   "execution_count": 7,
   "metadata": {
    "colab": {
     "base_uri": "https://localhost:8080/",
     "height": 204
    },
    "colab_type": "code",
    "executionInfo": {
     "elapsed": 2081,
     "status": "ok",
     "timestamp": 1565141085722,
     "user": {
      "displayName": "Hendra Himawan",
      "photoUrl": "https://lh5.googleusercontent.com/-n1PQL-L8BjU/AAAAAAAAAAI/AAAAAAAAAAc/CK5p51JqKxQ/s64/photo.jpg",
      "userId": "06873372544416124763"
     },
     "user_tz": -420
    },
    "id": "PyAO_7i1Uqec",
    "outputId": "5b7590c5-63ee-4f25-e419-5654a306786b"
   },
   "outputs": [
    {
     "data": {
      "text/html": [
       "<div>\n",
       "<style scoped>\n",
       "    .dataframe tbody tr th:only-of-type {\n",
       "        vertical-align: middle;\n",
       "    }\n",
       "\n",
       "    .dataframe tbody tr th {\n",
       "        vertical-align: top;\n",
       "    }\n",
       "\n",
       "    .dataframe thead th {\n",
       "        text-align: right;\n",
       "    }\n",
       "</style>\n",
       "<table border=\"1\" class=\"dataframe\">\n",
       "  <thead>\n",
       "    <tr style=\"text-align: right;\">\n",
       "      <th></th>\n",
       "      <th>Id</th>\n",
       "      <th>SepalLengthCm</th>\n",
       "      <th>SepalWidthCm</th>\n",
       "      <th>PetalLengthCm</th>\n",
       "      <th>PetalWidthCm</th>\n",
       "      <th>Species</th>\n",
       "    </tr>\n",
       "  </thead>\n",
       "  <tbody>\n",
       "    <tr>\n",
       "      <th>0</th>\n",
       "      <td>1</td>\n",
       "      <td>5.1</td>\n",
       "      <td>3.5</td>\n",
       "      <td>1.4</td>\n",
       "      <td>0.2</td>\n",
       "      <td>Iris-setosa</td>\n",
       "    </tr>\n",
       "    <tr>\n",
       "      <th>1</th>\n",
       "      <td>2</td>\n",
       "      <td>4.9</td>\n",
       "      <td>3.0</td>\n",
       "      <td>1.4</td>\n",
       "      <td>0.2</td>\n",
       "      <td>Iris-setosa</td>\n",
       "    </tr>\n",
       "    <tr>\n",
       "      <th>2</th>\n",
       "      <td>3</td>\n",
       "      <td>4.7</td>\n",
       "      <td>3.2</td>\n",
       "      <td>1.3</td>\n",
       "      <td>0.2</td>\n",
       "      <td>Iris-setosa</td>\n",
       "    </tr>\n",
       "    <tr>\n",
       "      <th>3</th>\n",
       "      <td>4</td>\n",
       "      <td>4.6</td>\n",
       "      <td>3.1</td>\n",
       "      <td>1.5</td>\n",
       "      <td>0.2</td>\n",
       "      <td>Iris-setosa</td>\n",
       "    </tr>\n",
       "    <tr>\n",
       "      <th>4</th>\n",
       "      <td>5</td>\n",
       "      <td>5.0</td>\n",
       "      <td>3.6</td>\n",
       "      <td>1.4</td>\n",
       "      <td>0.2</td>\n",
       "      <td>Iris-setosa</td>\n",
       "    </tr>\n",
       "  </tbody>\n",
       "</table>\n",
       "</div>"
      ],
      "text/plain": [
       "   Id  SepalLengthCm  SepalWidthCm  PetalLengthCm  PetalWidthCm      Species\n",
       "0   1            5.1           3.5            1.4           0.2  Iris-setosa\n",
       "1   2            4.9           3.0            1.4           0.2  Iris-setosa\n",
       "2   3            4.7           3.2            1.3           0.2  Iris-setosa\n",
       "3   4            4.6           3.1            1.5           0.2  Iris-setosa\n",
       "4   5            5.0           3.6            1.4           0.2  Iris-setosa"
      ]
     },
     "execution_count": 7,
     "metadata": {},
     "output_type": "execute_result"
    }
   ],
   "source": [
    "df=pd.read_csv('Dataset/iris.csv')\n",
    "df.head()"
   ]
  },
  {
   "cell_type": "markdown",
   "metadata": {
    "colab_type": "text",
    "id": "m9SDG9iel2qk"
   },
   "source": [
    "Melihat type data tiap column"
   ]
  },
  {
   "cell_type": "code",
   "execution_count": 8,
   "metadata": {
    "colab": {
     "base_uri": "https://localhost:8080/",
     "height": 136
    },
    "colab_type": "code",
    "executionInfo": {
     "elapsed": 2028,
     "status": "ok",
     "timestamp": 1565141085724,
     "user": {
      "displayName": "Hendra Himawan",
      "photoUrl": "https://lh5.googleusercontent.com/-n1PQL-L8BjU/AAAAAAAAAAI/AAAAAAAAAAc/CK5p51JqKxQ/s64/photo.jpg",
      "userId": "06873372544416124763"
     },
     "user_tz": -420
    },
    "id": "Kwsf7_sXlzRU",
    "outputId": "376671e6-0e05-4eb0-98a9-61bf9002f8d1"
   },
   "outputs": [
    {
     "data": {
      "text/plain": [
       "Id                 int64\n",
       "SepalLengthCm    float64\n",
       "SepalWidthCm     float64\n",
       "PetalLengthCm    float64\n",
       "PetalWidthCm     float64\n",
       "Species           object\n",
       "dtype: object"
      ]
     },
     "execution_count": 8,
     "metadata": {},
     "output_type": "execute_result"
    }
   ],
   "source": [
    "df.dtypes"
   ]
  },
  {
   "cell_type": "markdown",
   "metadata": {
    "colab_type": "text",
    "id": "aR7Dbq0smgPi"
   },
   "source": [
    "Men-cek jumlah dataset pada setiap column"
   ]
  },
  {
   "cell_type": "code",
   "execution_count": 9,
   "metadata": {
    "colab": {
     "base_uri": "https://localhost:8080/",
     "height": 136
    },
    "colab_type": "code",
    "executionInfo": {
     "elapsed": 2006,
     "status": "ok",
     "timestamp": 1565141085726,
     "user": {
      "displayName": "Hendra Himawan",
      "photoUrl": "https://lh5.googleusercontent.com/-n1PQL-L8BjU/AAAAAAAAAAI/AAAAAAAAAAc/CK5p51JqKxQ/s64/photo.jpg",
      "userId": "06873372544416124763"
     },
     "user_tz": -420
    },
    "id": "fEc-3em0mg2f",
    "outputId": "4b2fb291-4b57-4403-9f1d-24eaea9a3cbb"
   },
   "outputs": [
    {
     "data": {
      "text/plain": [
       "Id               150\n",
       "SepalLengthCm    150\n",
       "SepalWidthCm     150\n",
       "PetalLengthCm    150\n",
       "PetalWidthCm     150\n",
       "Species          150\n",
       "dtype: int64"
      ]
     },
     "execution_count": 9,
     "metadata": {},
     "output_type": "execute_result"
    }
   ],
   "source": [
    "df.count()"
   ]
  },
  {
   "cell_type": "markdown",
   "metadata": {
    "colab_type": "text",
    "id": "nNvoY_xvxgiq"
   },
   "source": [
    "Meratakan setiap nilai column berdasarkan spesies"
   ]
  },
  {
   "cell_type": "code",
   "execution_count": 10,
   "metadata": {
    "colab": {
     "base_uri": "https://localhost:8080/",
     "height": 173
    },
    "colab_type": "code",
    "executionInfo": {
     "elapsed": 1959,
     "status": "ok",
     "timestamp": 1565141085728,
     "user": {
      "displayName": "Hendra Himawan",
      "photoUrl": "https://lh5.googleusercontent.com/-n1PQL-L8BjU/AAAAAAAAAAI/AAAAAAAAAAc/CK5p51JqKxQ/s64/photo.jpg",
      "userId": "06873372544416124763"
     },
     "user_tz": -420
    },
    "id": "LigWA6jsw-Yl",
    "outputId": "49fff843-64b8-4014-bcf1-fcaa72a1c1c8"
   },
   "outputs": [
    {
     "data": {
      "text/html": [
       "<div>\n",
       "<style scoped>\n",
       "    .dataframe tbody tr th:only-of-type {\n",
       "        vertical-align: middle;\n",
       "    }\n",
       "\n",
       "    .dataframe tbody tr th {\n",
       "        vertical-align: top;\n",
       "    }\n",
       "\n",
       "    .dataframe thead th {\n",
       "        text-align: right;\n",
       "    }\n",
       "</style>\n",
       "<table border=\"1\" class=\"dataframe\">\n",
       "  <thead>\n",
       "    <tr style=\"text-align: right;\">\n",
       "      <th></th>\n",
       "      <th>Id</th>\n",
       "      <th>SepalLengthCm</th>\n",
       "      <th>SepalWidthCm</th>\n",
       "      <th>PetalLengthCm</th>\n",
       "      <th>PetalWidthCm</th>\n",
       "    </tr>\n",
       "    <tr>\n",
       "      <th>Species</th>\n",
       "      <th></th>\n",
       "      <th></th>\n",
       "      <th></th>\n",
       "      <th></th>\n",
       "      <th></th>\n",
       "    </tr>\n",
       "  </thead>\n",
       "  <tbody>\n",
       "    <tr>\n",
       "      <th>Iris-setosa</th>\n",
       "      <td>25.5</td>\n",
       "      <td>5.006</td>\n",
       "      <td>3.418</td>\n",
       "      <td>1.464</td>\n",
       "      <td>0.244</td>\n",
       "    </tr>\n",
       "    <tr>\n",
       "      <th>Iris-versicolor</th>\n",
       "      <td>75.5</td>\n",
       "      <td>5.936</td>\n",
       "      <td>2.770</td>\n",
       "      <td>4.260</td>\n",
       "      <td>1.326</td>\n",
       "    </tr>\n",
       "    <tr>\n",
       "      <th>Iris-virginica</th>\n",
       "      <td>125.5</td>\n",
       "      <td>6.588</td>\n",
       "      <td>2.974</td>\n",
       "      <td>5.552</td>\n",
       "      <td>2.026</td>\n",
       "    </tr>\n",
       "  </tbody>\n",
       "</table>\n",
       "</div>"
      ],
      "text/plain": [
       "                    Id  SepalLengthCm  SepalWidthCm  PetalLengthCm  \\\n",
       "Species                                                              \n",
       "Iris-setosa       25.5          5.006         3.418          1.464   \n",
       "Iris-versicolor   75.5          5.936         2.770          4.260   \n",
       "Iris-virginica   125.5          6.588         2.974          5.552   \n",
       "\n",
       "                 PetalWidthCm  \n",
       "Species                        \n",
       "Iris-setosa             0.244  \n",
       "Iris-versicolor         1.326  \n",
       "Iris-virginica          2.026  "
      ]
     },
     "execution_count": 10,
     "metadata": {},
     "output_type": "execute_result"
    }
   ],
   "source": [
    "df.groupby('Species').mean().head()"
   ]
  },
  {
   "cell_type": "markdown",
   "metadata": {
    "colab_type": "text",
    "id": "XlSINjT1wfQ8"
   },
   "source": [
    "Menampilkan data dalam bentuk plot scatter dan bar"
   ]
  },
  {
   "cell_type": "code",
   "execution_count": 11,
   "metadata": {
    "colab": {
     "base_uri": "https://localhost:8080/",
     "height": 286
    },
    "colab_type": "code",
    "executionInfo": {
     "elapsed": 3049,
     "status": "ok",
     "timestamp": 1565141086865,
     "user": {
      "displayName": "Hendra Himawan",
      "photoUrl": "https://lh5.googleusercontent.com/-n1PQL-L8BjU/AAAAAAAAAAI/AAAAAAAAAAc/CK5p51JqKxQ/s64/photo.jpg",
      "userId": "06873372544416124763"
     },
     "user_tz": -420
    },
    "id": "k9-ZrH27uyKk",
    "outputId": "8047d1e1-5ea9-47ae-cf59-5c2276abc94e"
   },
   "outputs": [
    {
     "data": {
      "text/plain": [
       "<BarContainer object of 150 artists>"
      ]
     },
     "execution_count": 11,
     "metadata": {},
     "output_type": "execute_result"
    },
    {
     "data": {
      "image/png": "[encoded data removed]",
      "text/plain": [
       "<Figure size 432x288 with 1 Axes>"
      ]
     },
     "metadata": {
      "needs_background": "light"
     },
     "output_type": "display_data"
    }
   ],
   "source": [
    "plt.bar(df.Species, df.SepalLengthCm)"
   ]
  },
  {
   "cell_type": "code",
   "execution_count": 12,
   "metadata": {
    "colab": {
     "base_uri": "https://localhost:8080/",
     "height": 286
    },
    "colab_type": "code",
    "executionInfo": {
     "elapsed": 3494,
     "status": "ok",
     "timestamp": 1565141087339,
     "user": {
      "displayName": "Hendra Himawan",
      "photoUrl": "https://lh5.googleusercontent.com/-n1PQL-L8BjU/AAAAAAAAAAI/AAAAAAAAAAc/CK5p51JqKxQ/s64/photo.jpg",
      "userId": "06873372544416124763"
     },
     "user_tz": -420
    },
    "id": "QZFa5zQLqhMK",
    "outputId": "dc7ec8c3-1c15-487d-c1d1-faad33fb53ab"
   },
   "outputs": [
    {
     "data": {
      "text/plain": [
       "<BarContainer object of 150 artists>"
      ]
     },
     "execution_count": 12,
     "metadata": {},
     "output_type": "execute_result"
    },
    {
     "data": {
      "image/png": "[encoded data removed]",
      "text/plain": [
       "<Figure size 432x288 with 1 Axes>"
      ]
     },
     "metadata": {
      "needs_background": "light"
     },
     "output_type": "display_data"
    }
   ],
   "source": [
    "plt.bar(df.Species, df.SepalWidthCm)"
   ]
  },
  {
   "cell_type": "code",
   "execution_count": 13,
   "metadata": {
    "colab": {
     "base_uri": "https://localhost:8080/",
     "height": 286
    },
    "colab_type": "code",
    "executionInfo": {
     "elapsed": 3474,
     "status": "ok",
     "timestamp": 1565141087341,
     "user": {
      "displayName": "Hendra Himawan",
      "photoUrl": "https://lh5.googleusercontent.com/-n1PQL-L8BjU/AAAAAAAAAAI/AAAAAAAAAAc/CK5p51JqKxQ/s64/photo.jpg",
      "userId": "06873372544416124763"
     },
     "user_tz": -420
    },
    "id": "X6e0OyhqwDlV",
    "outputId": "235d8bc3-b3eb-4840-fb17-cd40b17d6592"
   },
   "outputs": [
    {
     "data": {
      "text/plain": [
       "<BarContainer object of 150 artists>"
      ]
     },
     "execution_count": 13,
     "metadata": {},
     "output_type": "execute_result"
    },
    {
     "data": {
      "image/png": "[encoded data removed]",
      "text/plain": [
       "<Figure size 432x288 with 1 Axes>"
      ]
     },
     "metadata": {
      "needs_background": "light"
     },
     "output_type": "display_data"
    }
   ],
   "source": [
    "plt.bar(df.Species, df.PetalWidthCm)"
   ]
  },
  {
   "cell_type": "code",
   "execution_count": 14,
   "metadata": {
    "colab": {
     "base_uri": "https://localhost:8080/",
     "height": 286
    },
    "colab_type": "code",
    "executionInfo": {
     "elapsed": 4328,
     "status": "ok",
     "timestamp": 1565141088214,
     "user": {
      "displayName": "Hendra Himawan",
      "photoUrl": "https://lh5.googleusercontent.com/-n1PQL-L8BjU/AAAAAAAAAAI/AAAAAAAAAAc/CK5p51JqKxQ/s64/photo.jpg",
      "userId": "06873372544416124763"
     },
     "user_tz": -420
    },
    "id": "dsRvfvnHv81H",
    "outputId": "f21a44d7-f22d-4750-be03-1453850ef9da"
   },
   "outputs": [
    {
     "data": {
      "text/plain": [
       "<BarContainer object of 150 artists>"
      ]
     },
     "execution_count": 14,
     "metadata": {},
     "output_type": "execute_result"
    },
    {
     "data": {
      "image/png": "[encoded data removed]",
      "text/plain": [
       "<Figure size 432x288 with 1 Axes>"
      ]
     },
     "metadata": {
      "needs_background": "light"
     },
     "output_type": "display_data"
    }
   ],
   "source": [
    "plt.bar(df.Species, df.PetalLengthCm)"
   ]
  },
  {
   "cell_type": "code",
   "execution_count": 15,
   "metadata": {
    "colab": {
     "base_uri": "https://localhost:8080/",
     "height": 300
    },
    "colab_type": "code",
    "executionInfo": {
     "elapsed": 5077,
     "status": "ok",
     "timestamp": 1565141088977,
     "user": {
      "displayName": "Hendra Himawan",
      "photoUrl": "https://lh5.googleusercontent.com/-n1PQL-L8BjU/AAAAAAAAAAI/AAAAAAAAAAc/CK5p51JqKxQ/s64/photo.jpg",
      "userId": "06873372544416124763"
     },
     "user_tz": -420
    },
    "id": "tw84fMMJWkle",
    "outputId": "3cad6d8a-5391-40bb-e30d-ed359990e325"
   },
   "outputs": [
    {
     "data": {
      "text/plain": [
       "Text(0, 0.5, 'Lebar Sepal (cm)')"
      ]
     },
     "execution_count": 15,
     "metadata": {},
     "output_type": "execute_result"
    },
    {
     "data": {
      "image/png": "[encoded data removed]",
      "text/plain": [
       "<Figure size 432x288 with 1 Axes>"
      ]
     },
     "metadata": {
      "needs_background": "light"
     },
     "output_type": "display_data"
    }
   ],
   "source": [
    "plt.scatter(df['SepalLengthCm'],df['SepalWidthCm'])\n",
    "plt.xlabel('Panjang Sepal (cm)')\n",
    "plt.ylabel('Lebar Sepal (cm)')"
   ]
  },
  {
   "cell_type": "code",
   "execution_count": 16,
   "metadata": {
    "colab": {
     "base_uri": "https://localhost:8080/",
     "height": 300
    },
    "colab_type": "code",
    "executionInfo": {
     "elapsed": 5067,
     "status": "ok",
     "timestamp": 1565141088982,
     "user": {
      "displayName": "Hendra Himawan",
      "photoUrl": "https://lh5.googleusercontent.com/-n1PQL-L8BjU/AAAAAAAAAAI/AAAAAAAAAAc/CK5p51JqKxQ/s64/photo.jpg",
      "userId": "06873372544416124763"
     },
     "user_tz": -420
    },
    "id": "3aAv2_BrW4Ce",
    "outputId": "10d38391-27e1-48b6-a247-32bab21f1ea0"
   },
   "outputs": [
    {
     "data": {
      "text/plain": [
       "Text(0, 0.5, 'Lebar Petal (cm)')"
      ]
     },
     "execution_count": 16,
     "metadata": {},
     "output_type": "execute_result"
    },
    {
     "data": {
      "image/png": "[encoded data removed]",
      "text/plain": [
       "<Figure size 432x288 with 1 Axes>"
      ]
     },
     "metadata": {
      "needs_background": "light"
     },
     "output_type": "display_data"
    }
   ],
   "source": [
    "plt.scatter(df['PetalLengthCm'],df['PetalWidthCm'])\n",
    "plt.xlabel('Panjang Petal (cm)')\n",
    "plt.ylabel('Lebar Petal (cm)')"
   ]
  },
  {
   "cell_type": "markdown",
   "metadata": {
    "colab_type": "text",
    "id": "EOTlNN4Ay9kI"
   },
   "source": [
    "Membuat dua data dimana X merupakan data Independent dan y merupakan variabel dependent "
   ]
  },
  {
   "cell_type": "code",
   "execution_count": 17,
   "metadata": {
    "colab": {},
    "colab_type": "code",
    "id": "nOvqhXTZXIIp"
   },
   "outputs": [],
   "source": [
    "X = df.drop(['Species', 'Id'], axis=1).values\n",
    "y = df.Species.values"
   ]
  },
  {
   "cell_type": "markdown",
   "metadata": {
    "colab_type": "text",
    "id": "F9tCRKsrzTyh"
   },
   "source": [
    "Melakukan label encoder (membuat value string menjadi nilai integer) pada data y"
   ]
  },
  {
   "cell_type": "code",
   "execution_count": 18,
   "metadata": {
    "colab": {},
    "colab_type": "code",
    "id": "4SE1vtkmcHh_"
   },
   "outputs": [],
   "source": [
    "from sklearn import preprocessing\n",
    "le_sp = preprocessing.LabelEncoder()\n",
    "le_sp.fit(['Iris-setosa', 'Iris-versicolor', 'Iris-virginica'])\n",
    "y = le_sp.transform(y)"
   ]
  },
  {
   "cell_type": "markdown",
   "metadata": {
    "colab_type": "text",
    "id": "Skgbrhh11LrS"
   },
   "source": [
    "Memecah data menjadi dua dengan menggunakan sklearn dengan data test berjumlah 20% dari data train"
   ]
  },
  {
   "cell_type": "code",
   "execution_count": 19,
   "metadata": {
    "colab": {
     "base_uri": "https://localhost:8080/",
     "height": 51
    },
    "colab_type": "code",
    "executionInfo": {
     "elapsed": 5851,
     "status": "ok",
     "timestamp": 1565141089810,
     "user": {
      "displayName": "Hendra Himawan",
      "photoUrl": "https://lh5.googleusercontent.com/-n1PQL-L8BjU/AAAAAAAAAAI/AAAAAAAAAAc/CK5p51JqKxQ/s64/photo.jpg",
      "userId": "06873372544416124763"
     },
     "user_tz": -420
    },
    "id": "0vWePejPzmxO",
    "outputId": "2c867141-2b3e-4766-b59c-62ce3b010f0c"
   },
   "outputs": [
    {
     "name": "stdout",
     "output_type": "stream",
     "text": [
      "Data X_train =  (120, 4) Data y_train = (120,)\n",
      "Data X_test =  (30, 4) Data y_test = (30,)\n"
     ]
    }
   ],
   "source": [
    "from sklearn.model_selection import train_test_split\n",
    "X_train, X_test, y_train, y_test = train_test_split(X, y, test_size=0.2, random_state=10)\n",
    "print('Data X_train = ', X_train.shape, 'Data y_train =', y_train.shape)\n",
    "print('Data X_test = ', X_test.shape, 'Data y_test =', y_test.shape)"
   ]
  },
  {
   "cell_type": "markdown",
   "metadata": {
    "colab_type": "text",
    "id": "2LVYB54j8VuI"
   },
   "source": [
    "#Evaluating"
   ]
  },
  {
   "cell_type": "markdown",
   "metadata": {
    "colab_type": "text",
    "id": "kNUzPGxT1xcV"
   },
   "source": [
    "Men-Import library sklearn.neighbors karena metode klasifikasi yang digunakan adalah KNN"
   ]
  },
  {
   "cell_type": "code",
   "execution_count": 20,
   "metadata": {
    "colab": {},
    "colab_type": "code",
    "id": "UN4SPoPiwVji"
   },
   "outputs": [],
   "source": [
    "from sklearn.neighbors import KNeighborsClassifier\n",
    "from sklearn import metrics"
   ]
  },
  {
   "cell_type": "markdown",
   "metadata": {
    "colab_type": "text",
    "id": "sGzu3Ml02Dca"
   },
   "source": [
    "Men-inisialisasi jumlah K, nilai rerata mean_acc, scores , dan nilai std_acc "
   ]
  },
  {
   "cell_type": "code",
   "execution_count": 21,
   "metadata": {
    "colab": {},
    "colab_type": "code",
    "id": "2c2MLrDiZFtE"
   },
   "outputs": [],
   "source": [
    "Ks = 15\n",
    "mean_acc = np.zeros((Ks-1))\n",
    "std_acc = np.zeros((Ks-1))\n",
    "scores = []"
   ]
  },
  {
   "cell_type": "markdown",
   "metadata": {
    "colab_type": "text",
    "id": "yM6YRFHO8JKE"
   },
   "source": [
    "Menggunakan metode KNN, dan mencari nilai K yang optimal sehingga diperoleh data yang akurat"
   ]
  },
  {
   "cell_type": "code",
   "execution_count": 22,
   "metadata": {
    "colab": {},
    "colab_type": "code",
    "id": "uFCu07PW2WpU"
   },
   "outputs": [],
   "source": [
    "for n in range(1,Ks): \n",
    "    knn = KNeighborsClassifier(n_neighbors = n)\n",
    "    knn.fit(X_train, y_train)\n",
    "    yhat = knn.predict(X_test) \n",
    "    mean_acc[n-1] = metrics.accuracy_score(y_test, yhat)\n",
    "    std_acc[n-1]=np.std(yhat==y_test)/np.sqrt(yhat.shape[0])\n",
    "    scores.append(metrics.accuracy_score(y_test,yhat))"
   ]
  },
  {
   "cell_type": "markdown",
   "metadata": {
    "colab_type": "text",
    "id": "tRmodRsZ89GL"
   },
   "source": [
    "Visualisasi data diperoleh nilai K lalu mencari nilai akurasi yang tertinggi dari perbandingan data test dengan data prediksi "
   ]
  },
  {
   "cell_type": "code",
   "execution_count": 23,
   "metadata": {
    "colab": {
     "base_uri": "https://localhost:8080/",
     "height": 295
    },
    "colab_type": "code",
    "executionInfo": {
     "elapsed": 5782,
     "status": "ok",
     "timestamp": 1565141089815,
     "user": {
      "displayName": "Hendra Himawan",
      "photoUrl": "https://lh5.googleusercontent.com/-n1PQL-L8BjU/AAAAAAAAAAI/AAAAAAAAAAc/CK5p51JqKxQ/s64/photo.jpg",
      "userId": "06873372544416124763"
     },
     "user_tz": -420
    },
    "id": "6JOmeVr-4lWQ",
    "outputId": "af7be5a1-7322-489b-decd-8dd72039e509"
   },
   "outputs": [
    {
     "data": {
      "image/png": "[encoded data removed]",
      "text/plain": [
       "<Figure size 432x288 with 1 Axes>"
      ]
     },
     "metadata": {
      "needs_background": "light"
     },
     "output_type": "display_data"
    }
   ],
   "source": [
    "plt.plot(range(1,Ks), scores)\n",
    "plt.xlabel('Nilai K')\n",
    "plt.ylabel('Akurasi')\n",
    "plt.title('Akurasi Terhadap Nilai K')\n",
    "plt.show()"
   ]
  },
  {
   "cell_type": "markdown",
   "metadata": {
    "colab_type": "text",
    "id": "BrDvrGiq9vnv"
   },
   "source": [
    "Selanjutnya menampilkan data dalam confusion matrix dengan men-import library sklearn.metrics"
   ]
  },
  {
   "cell_type": "code",
   "execution_count": 24,
   "metadata": {
    "colab": {},
    "colab_type": "code",
    "id": "yZJAeJGC4EqR"
   },
   "outputs": [],
   "source": [
    "from sklearn.metrics import classification_report, confusion_matrix\n",
    "import itertools"
   ]
  },
  {
   "cell_type": "markdown",
   "metadata": {
    "colab_type": "text",
    "id": "ERH7T7Wi96XM"
   },
   "source": [
    "Membuat fungsi untuk memplot data dalam bentuk tabel confussion matrix"
   ]
  },
  {
   "cell_type": "code",
   "execution_count": 25,
   "metadata": {
    "colab": {},
    "colab_type": "code",
    "id": "X9b9amVW351P"
   },
   "outputs": [],
   "source": [
    "def plot_confusion_matrix(cm, classes,\n",
    "                          normalize=False,\n",
    "                          title='Confusion matrix',\n",
    "                          cmap=plt.cm.Blues):\n",
    "    \"\"\"\n",
    "    This function prints and plots the confusion matrix.\n",
    "    Normalization can be applied by setting `normalize=True`.\n",
    "    \"\"\"\n",
    "    if normalize:\n",
    "        cm = cm.astype('float') / cm.sum(axis=1)[:, np.newaxis]\n",
    "        print(\"Normalized confusion matrix\")\n",
    "    else:\n",
    "        print('Confusion matrix, without normalization')\n",
    "\n",
    "    print(cm)\n",
    "\n",
    "    plt.imshow(cm, interpolation='nearest', cmap=cmap)\n",
    "    plt.title(title)\n",
    "    plt.colorbar()\n",
    "    tick_marks = np.arange(len(classes))\n",
    "    plt.xticks(tick_marks, classes, rotation=45)\n",
    "    plt.yticks(tick_marks, classes)\n",
    "\n",
    "    fmt = '.2f' if normalize else 'd'\n",
    "    thresh = cm.max() / 2.\n",
    "    for i, j in itertools.product(range(cm.shape[0]), range(cm.shape[1])):\n",
    "        plt.text(j, i, format(cm[i, j], fmt),\n",
    "                 horizontalalignment=\"center\",\n",
    "                 color=\"white\" if cm[i, j] > thresh else \"black\")\n",
    "\n",
    "    plt.tight_layout()\n",
    "    plt.ylabel('True label')\n",
    "    plt.xlabel('Predicted label')"
   ]
  },
  {
   "cell_type": "markdown",
   "metadata": {
    "colab_type": "text",
    "id": "Heya4WCB-t2c"
   },
   "source": [
    "Selanjutnya memasukkan kembali metode KNN dengan nilai K yang optimal (n_neighbors = 6) kemudian tarnsform kedalam confussion matrix kemudian plot tabel confusion matrix"
   ]
  },
  {
   "cell_type": "code",
   "execution_count": 26,
   "metadata": {
    "colab": {
     "base_uri": "https://localhost:8080/",
     "height": 549
    },
    "colab_type": "code",
    "executionInfo": {
     "elapsed": 6607,
     "status": "ok",
     "timestamp": 1565141090698,
     "user": {
      "displayName": "Hendra Himawan",
      "photoUrl": "https://lh5.googleusercontent.com/-n1PQL-L8BjU/AAAAAAAAAAI/AAAAAAAAAAc/CK5p51JqKxQ/s64/photo.jpg",
      "userId": "06873372544416124763"
     },
     "user_tz": -420
    },
    "id": "IvO68MlT3_NP",
    "outputId": "8b95a58c-63ce-4de8-ec4d-7a38712db63d"
   },
   "outputs": [
    {
     "name": "stdout",
     "output_type": "stream",
     "text": [
      "              precision    recall  f1-score   support\n",
      "\n",
      "           0       1.00      1.00      1.00        10\n",
      "           1       1.00      0.92      0.96        13\n",
      "           2       0.88      1.00      0.93         7\n",
      "\n",
      "   micro avg       0.97      0.97      0.97        30\n",
      "   macro avg       0.96      0.97      0.96        30\n",
      "weighted avg       0.97      0.97      0.97        30\n",
      "\n",
      "Confusion matrix, without normalization\n",
      "[[10  0  0]\n",
      " [ 0 12  1]\n",
      " [ 0  0  7]]\n"
     ]
    },
    {
     "data": {
      "image/png": "[encoded data removed]",
      "text/plain": [
       "<Figure size 432x288 with 2 Axes>"
      ]
     },
     "metadata": {
      "needs_background": "light"
     },
     "output_type": "display_data"
    }
   ],
   "source": [
    "knn = KNeighborsClassifier(n_neighbors = 6)\n",
    "knn.fit(X_train, y_train)\n",
    "yhat = knn.predict(X_test)\n",
    "\n",
    "cnf_matrix = confusion_matrix(y_test, yhat, labels=[0,1,2])\n",
    "np.set_printoptions(precision=3)\n",
    "\n",
    "print (classification_report(y_test, yhat))\n",
    "\n",
    "plt.figure()\n",
    "plot_confusion_matrix(cnf_matrix, classes=df.Species.unique(),normalize= False,  title='Confusion matrix')"
   ]
  },
  {
   "cell_type": "markdown",
   "metadata": {
    "colab_type": "text",
    "id": "w4aO3W0TMB3_"
   },
   "source": [
    "Menampilkan data prediski dan data test dengan scatter plot"
   ]
  },
  {
   "cell_type": "code",
   "execution_count": 27,
   "metadata": {
    "colab": {
     "base_uri": "https://localhost:8080/",
     "height": 295
    },
    "colab_type": "code",
    "executionInfo": {
     "elapsed": 7897,
     "status": "ok",
     "timestamp": 1565141092020,
     "user": {
      "displayName": "Hendra Himawan",
      "photoUrl": "https://lh5.googleusercontent.com/-n1PQL-L8BjU/AAAAAAAAAAI/AAAAAAAAAAc/CK5p51JqKxQ/s64/photo.jpg",
      "userId": "06873372544416124763"
     },
     "user_tz": -420
    },
    "id": "Lehyf3jJANK9",
    "outputId": "3d17da68-d103-4447-d49e-3ae03d68ba25"
   },
   "outputs": [
    {
     "data": {
      "image/png": "[encoded data removed]",
      "text/plain": [
       "<Figure size 432x288 with 2 Axes>"
      ]
     },
     "metadata": {
      "needs_background": "light"
     },
     "output_type": "display_data"
    }
   ],
   "source": [
    "plt.subplot(1,2,1)\n",
    "plt.scatter(X_test[:,0], X_test[:,1], c=y_test)\n",
    "plt.ylabel('Panjang Sepal cm')\n",
    "plt.xlabel('Lebar Sepal cm')\n",
    "plt.title('Data Test')\n",
    "plt.subplot(1,2,2)\n",
    "plt.subplots_adjust(right = 2)\n",
    "plt.scatter(X_test[:,0], X_test[:,1], c=yhat)\n",
    "plt.ylabel('Panjang Sepal cm')\n",
    "plt.xlabel('Lebar Sepal cm')\n",
    "plt.title('Data Prediksi')\n",
    "plt.show()"
   ]
  }
 ],
 "metadata": {
  "accelerator": "GPU",
  "colab": {
   "name": "Iris.ipynb",
   "provenance": [],
   "toc_visible": true,
   "version": "0.3.2"
  },
  "kernelspec": {
   "display_name": "Python 3",
   "language": "python",
   "name": "python3"
  },
  "language_info": {
   "codemirror_mode": {
    "name": "ipython",
    "version": 3
   },
   "file_extension": ".py",
   "mimetype": "text/x-python",
   "name": "python",
   "nbconvert_exporter": "python",
   "pygments_lexer": "ipython3",
   "version": "3.7.1"
  }
 },
 "nbformat": 4,
 "nbformat_minor": 1
}
